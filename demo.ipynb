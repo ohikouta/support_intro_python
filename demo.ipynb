{
  "nbformat": 4,
  "nbformat_minor": 0,
  "metadata": {
    "colab": {
      "name": "demo.ipynb",
      "provenance": [],
      "authorship_tag": "ABX9TyPDnNQ9MP2JZzStO44pZlSS",
      "include_colab_link": true
    },
    "kernelspec": {
      "name": "python3",
      "display_name": "Python 3"
    },
    "language_info": {
      "name": "python"
    }
  },
  "cells": [
    {
      "cell_type": "markdown",
      "metadata": {
        "id": "view-in-github",
        "colab_type": "text"
      },
      "source": [
        "<a href=\"https://colab.research.google.com/github/ohikouta/support_intro_python/blob/main/demo.ipynb\" target=\"_parent\"><img src=\"https://colab.research.google.com/assets/colab-badge.svg\" alt=\"Open In Colab\"/></a>"
      ]
    },
    {
      "cell_type": "code",
      "execution_count": null,
      "metadata": {
        "colab": {
          "base_uri": "https://localhost:8080/"
        },
        "id": "oX2Fw30Aitl4",
        "outputId": "f21f9892-ed82-47bf-8046-d5b087f0ec2a"
      },
      "outputs": [
        {
          "output_type": "stream",
          "name": "stdout",
          "text": [
            "{'c': 300, 'd': 400}\n",
            "Counter({'d': 400, 'a': 400, 'b': 400, 'c': 300})\n"
          ]
        }
      ],
      "source": [
        "# 課題５ \n",
        "import collections\n",
        "\n",
        "d1 = {'a': 100, 'b': 200, 'c': 300}\n",
        "d2 = {'a': 300, 'b': 200, 'd': 400}\n",
        "\n",
        "# merge_dict 結果のリスト\n",
        "merge_dict = {}\n",
        "\n",
        "merge_list = list(d1.keys()) + list(d2.keys())  # ['a', 'b', 'c', 'a', 'b', 'd']\n",
        "\n",
        "c = collections.Counter(merge_list)  # {'a': 2, 'b': 2, 'c': 1, 'd': 1}\n",
        "\n",
        "# d1.update(d2)をするとd1の内容が更新されてしまうので，d3というコピーを作成する\n",
        "# d3 = {'a': 300, 'b': 200, 'c': 300, 'd': 400}  ( d1.update(d2)と同じ )\n",
        "d3 = d1.copy()\n",
        "d3.update(d2)\n",
        "\n",
        "w_key = []\n",
        "\n",
        "for key, values in c.items():  # ('key': values)\n",
        "  if values == 2:\n",
        "    w_key.append(key)\n",
        "  elif values == 1:\n",
        "     merge_dict[key] = d3[key]\n",
        "# この時点での merge_dict {'c': 300, 'd': 400}\n",
        "\n",
        "# 重複したキーを持つ値を足し合わせて，merge_dict に追加\n",
        "i = 0\n",
        "while i < len(w_key):\n",
        "      merge_dict[w_key[i]] = d1[w_key[i]] + d2[w_key[i]]\n",
        "      i += 1\n",
        "# この時点での merge_dict {'d': 400, 'a': 400, 'b': 400, 'c': 300}\n",
        "\n",
        "# 最後に Counter でキャスト\n",
        "# 出力形式を合わせる\n",
        "print(collections.Counter(merge_dict))"
      ]
    },
    {
      "cell_type": "code",
      "source": [
        "# 課題６\n",
        "input = 'w3resource'\n",
        "key = list(input)  # key = ['w', '3', 'r', 'e', 's', 'o', 'u', 'r', 'c', 'e']\n",
        "\n",
        "i = 0\n",
        "num_list = []\n",
        "while i < len(key):\n",
        " num_list.append(key.count(key[i]))\n",
        " i += 1\n",
        "\n",
        "# この時点で num_list = [1, 1, 2, 2, 1, 1, 1, 2, 1, 2]\n",
        "\n",
        "# result_dict に要素を追加していく\n",
        "result_dict = {}\n",
        "# zip 2つのリストの要素を同時に1つずつ抽出する \n",
        "# key の要素は key に，num_list の要素は value に毎回代入される\n",
        "for key, value in zip(key, num_list):\n",
        "  result_dict[key] = value  # result_dict に要素を追加していく\n",
        "\n",
        "print(result_dict)"
      ],
      "metadata": {
        "colab": {
          "base_uri": "https://localhost:8080/"
        },
        "id": "JcI4iqUSkGtA",
        "outputId": "61dc37dc-df1a-49ef-8f57-b8bd0399594b"
      },
      "execution_count": null,
      "outputs": [
        {
          "output_type": "stream",
          "name": "stdout",
          "text": [
            "['w', '3', 'r', 'e', 's', 'o', 'u', 'r', 'c', 'e']\n",
            "[1, 1, 2, 2, 1, 1, 1, 2, 1, 2]\n",
            "{'w': 1, '3': 1, 'r': 2, 'e': 2, 's': 1, 'o': 1, 'u': 1, 'c': 1}\n"
          ]
        }
      ]
    },
    {
      "cell_type": "markdown",
      "source": [
        "v =input(\"テキスト\")とすると、Pythonが入力を受け取ってその値を変数に入れてくれる。\n",
        "\n",
        "input(\"テキスト\")データ型はデフォルトでstr(文字列）になる。→文字列同士で計算ができないので、データ型を変換せずに、yを求めようとするとエラーが出る。\n",
        "\n",
        "この変数のデータ型を数値に変換すると計算ができるようになる。(float型：浮動小数点、int型：整数)"
      ],
      "metadata": {
        "id": "TBUXkJxYFw15"
      }
    },
    {
      "cell_type": "code",
      "source": [
        "# デフォルトの str型から、work_time は int型に、money は float型にデータ型を変換する\n",
        "# データ型を変換することをキャストという\n",
        "\n",
        "work_time = int(input(\"労働時間を入力してください\"))\n",
        "type(work_time)  # 変数 work_time のデータ型を確認\n",
        "money = float(input(\"時給を入力してください\"))\n",
        "type(money)  # 変数 money のデータ型を確認"
      ],
      "metadata": {
        "id": "vegBmluhmg7S",
        "colab": {
          "base_uri": "https://localhost:8080/"
        },
        "outputId": "fb69579f-db0f-4c91-d2fc-857db6d38aed"
      },
      "execution_count": null,
      "outputs": [
        {
          "name": "stdout",
          "output_type": "stream",
          "text": [
            "労働時間を入力してください35\n",
            "時給を入力してください2.75\n"
          ]
        },
        {
          "output_type": "execute_result",
          "data": {
            "text/plain": [
              "float"
            ]
          },
          "metadata": {},
          "execution_count": 16
        }
      ]
    },
    {
      "cell_type": "code",
      "source": [
        "y = work_time * money\n",
        "print(y)"
      ],
      "metadata": {
        "colab": {
          "base_uri": "https://localhost:8080/"
        },
        "id": "JuSZvG3NGlzp",
        "outputId": "c9fa41f9-4c8d-4960-9306-6c492452ebb6"
      },
      "execution_count": null,
      "outputs": [
        {
          "output_type": "stream",
          "name": "stdout",
          "text": [
            "96.25\n"
          ]
        }
      ]
    },
    {
      "cell_type": "code",
      "source": [
        "import math\n",
        "# 1.\n",
        "\n",
        "point_list = []\n",
        "A = tuple(input())\n",
        "B = tuple(input())\n",
        "C = tuple(input())\n",
        "\n",
        "\n",
        "\n",
        "# リストに３つの点を追加\n",
        "\n",
        "point_list.append(A)\n",
        "point_list.append(B)\n",
        "point_list.append(C)\n",
        "\n",
        "print(point_list)\n",
        "\n",
        "# 2.\n",
        "length_AB = math.sqrt( (int(point_list[0][0]) - int(point_list[1][0]))**2 \\\n",
        "                      + (int(point_list[0][1]) - int(point_list[1][1]))**2 )\n",
        "length_BC = math.sqrt( (int(point_list[1][0]) - int(point_list[2][0]))**2 \\\n",
        "                      + (int(point_list[1][1]) - int(point_list[2][1]))**2 )\n",
        "length_CA = math.sqrt( (int(point_list[2][0]) - int(point_list[0][0]))**2 \\\n",
        "                      + (int(point_list[2][1]) - int(point_list[0][1]))**2 )\n",
        "\n",
        "print(length_AB)\n",
        "print(length_BC)\n",
        "print(length_CA)\n",
        "print(f\"ABの長さは{length_AB},BCの長さは{length_BC}、CAの長さは{length_CA}\")\n",
        "\n",
        "\n",
        "\n"
      ],
      "metadata": {
        "id": "HP9uqQjcG5ea",
        "colab": {
          "base_uri": "https://localhost:8080/"
        },
        "outputId": "cfdcec7f-4b79-40b0-9349-accf5a72a046"
      },
      "execution_count": 21,
      "outputs": [
        {
          "output_type": "stream",
          "name": "stdout",
          "text": [
            "83\n",
            "71\n",
            "29\n",
            "[('8', '3'), ('7', '1'), ('2', '9')]\n",
            "2.23606797749979\n",
            "9.433981132056603\n",
            "8.48528137423857\n",
            "ABの長さは2.23606797749979,BCの長さは9.433981132056603、CAの長さは8.48528137423857\n"
          ]
        }
      ]
    },
    {
      "cell_type": "markdown",
      "source": [
        ""
      ],
      "metadata": {
        "id": "JclobrbEzekQ"
      }
    },
    {
      "cell_type": "markdown",
      "source": [
        "# ～これより下を見て～"
      ],
      "metadata": {
        "id": "h3lArgqL3ps7"
      }
    },
    {
      "cell_type": "markdown",
      "source": [
        "# 関数とは\n",
        "\n",
        "Pythonコードを書いているときに行いたい処理を関数で定義する．例えば，プログラムを書いているときにある人の年齢に10を足した数字を求める作業が多いときがあったとする．この処理をコードで書くならば以下のようになる．"
      ],
      "metadata": {
        "id": "8GoS7wEK3wc1"
      }
    },
    {
      "cell_type": "code",
      "source": [
        "takahashi_age = 21  # 高橋君の年齢\n",
        "takahashi_plus_ten = takahashi_age + 10  # 高橋君の年齢に10を足した数を求める\n",
        "print(takahashi_plus_ten)\n",
        "\n",
        "# 今度は鈴木君の年齢に10を足した数を求めるように言われた\n",
        "suzuki_age = 30  # 鈴木君の年齢\n",
        "suzuki_plus_ten = suzuki_age + 10  # 鈴木君の年齢に10を足した数を求める\n",
        "print(suzuki_plus_ten)"
      ],
      "metadata": {
        "colab": {
          "base_uri": "https://localhost:8080/"
        },
        "id": "BvuhVx8Y4P_z",
        "outputId": "c94a2f61-a219-4b30-826c-df5f609fe595"
      },
      "execution_count": 2,
      "outputs": [
        {
          "output_type": "stream",
          "name": "stdout",
          "text": [
            "31\n",
            "40\n"
          ]
        }
      ]
    },
    {
      "cell_type": "markdown",
      "source": [
        "このように何度も同じ処理が出てきた場合に，これを毎回書くのは実は非効率で，このような処理を効率を上げるために関数というものを定義する．上の例ではある人の年齢に10を足した数を計算してくれる関数を定義すると，仮に今後，ゼミ生20人全員に同じ処理をするように求められたときに，効率に大きな差が出てくる．\n",
        "\n",
        "ということでこの処理を age_plus_ten という関数にまとめた実装を以下のコードに示す．"
      ],
      "metadata": {
        "id": "-1Z9h8zD5C4g"
      }
    },
    {
      "cell_type": "code",
      "source": [
        "def age_plus_ten(age):  # この関数は，引数に age と書いてある．これを仮引数という．実際の処理を行うときには，高橋君の場合にはtakahashi_age, 鈴木君の場合にはsuzuki_ageの値が入ってくる． \n",
        "  return age + 10\n",
        "\n",
        "# 上と同じ処理を行いたい場合には関数に引数を渡してあげると関数内に定義した処理を実行してくれる．\n",
        "# ここで与える引数は関数自体に定義されている仮引数 age と対比して，実引数という．（実際に値が入っているという意味）\n",
        "\n",
        "print(age_plus_ten(takahashi_age))  # 引数はtakahashi_age  \n",
        "print(age_plus_ten(suzuki_age))     # 引数はsuzuki_age"
      ],
      "metadata": {
        "colab": {
          "base_uri": "https://localhost:8080/"
        },
        "id": "oziXOCRf5u1e",
        "outputId": "d7b487db-8931-49d0-f035-2b1edddadf74"
      },
      "execution_count": 5,
      "outputs": [
        {
          "output_type": "stream",
          "name": "stdout",
          "text": [
            "31\n",
            "40\n"
          ]
        }
      ]
    },
    {
      "cell_type": "markdown",
      "source": [
        "関数の細かい書き方を覚えるよりも，まずは関数がどんな役割をはたしていて，関数を使うと何が便利なのかということを簡単にイメージできるといいと思う．\n",
        "\n",
        "この下で実装しているクラスは，実は関数をいくつか定義しているだけになっている．コンビニに例えるなら，コンビニが持つ機能が関数に当たる．食べ物を買えること，トイレを使えること，ATMでお金をおろせること，などである．コンビニクラスを実装するなら，食べ物変える関数，トイレ使う関数，ATM関数といった感じで作る，（あくまでも例）\n",
        "\n",
        "実際に下のコードを見てみるとScoreクラスにはどうやら__init__という関数と，check_scoreという関数が定義されていそうなことがわかる．\n",
        "\n",
        "下のコードの説明はコメント機能で説明を書き込んでいる．"
      ],
      "metadata": {
        "id": "YcIpt2RN7a_B"
      }
    },
    {
      "cell_type": "code",
      "source": [
        "# クラスの実装　生徒の成績を保持するクラス\n",
        "class Score:\n",
        "  \n",
        "  def __init__(self, name, math, english, japanese):  # クラスで使うインスタンス変数 このクラスを使いたい場合は，この変数を持っている必要がある．no_1は名前と数学，英語，国語の点数を保持する必要があることを意味している．\n",
        "    \"\"\" 初期化 コンストラクタ \"\"\"\n",
        "    self.name = name\n",
        "    self.math = math\n",
        "    self.english = english\n",
        "    self.japanese = japanese\n",
        "\n",
        "  def check_score(self):  # メソッド１\n",
        "    \"\"\" 成績を確認する辞書 \"\"\"  # ←関数の簡単な説明\n",
        "    score_dict = {                            # score_dict はまず全部の情報を辞書型というデータ型にまとめる\n",
        "        \"name\": self.name,\n",
        "        \"math\": self.math,\n",
        "        \"english\": self.english,\n",
        "        \"japanese\": self.japanese\n",
        "    }                                         # 辞書型にまとまった！\n",
        "    # 続いて知りたい教科の点数を取り出したい．\n",
        "    subject = input(\"what do you want to check subject ? \")  # subject 変数に教科名を入力する\n",
        "    return score_dict[subject]  # 指定された教科名に当たる点数を上で定義した辞書から取り出す．score_dict の subject（指定した教科名）\n",
        "    \n",
        "\n",
        "\n",
        "# クラスを使うのは no_1 という変数下の1行を書くと，no_1 はScoreクラスを使えるようになる．\n",
        "no_1 = Score(\"takahashi\", 78, 58, 29)  # インスタンス変数を忘れずに与える(name=\"takahashi\", math=78, english=58, japanese=29)\n",
        "\n",
        "# 暇だったら練習問題やってみて～下に新しいインスタンスを作成して，国語の点数を表示してみよう！\n",
        "\n",
        "\n",
        "# 気になる教科のスコアを確認してみる．\n",
        "print(no_1.check_score())"
      ],
      "metadata": {
        "colab": {
          "base_uri": "https://localhost:8080/"
        },
        "id": "86NeVLBgBHba",
        "outputId": "ea70f4a5-555e-46ef-c2c1-7eeda7009fbc"
      },
      "execution_count": 6,
      "outputs": [
        {
          "output_type": "stream",
          "name": "stdout",
          "text": [
            "what do you want to check subject ? japanese\n",
            "29\n"
          ]
        }
      ]
    },
    {
      "cell_type": "code",
      "source": [
        ""
      ],
      "metadata": {
        "id": "MzmcPh90uPSM"
      },
      "execution_count": null,
      "outputs": []
    }
  ]
}